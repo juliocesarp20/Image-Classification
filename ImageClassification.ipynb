{
  "cells": [
    {
      "cell_type": "markdown",
      "metadata": {
        "id": "AzH2eKBJ-Ws2"
      },
      "source": [
        "# Image Classification"
      ]
    },
    {
      "cell_type": "markdown",
      "metadata": {
        "id": "44C5grQd-dxc"
      },
      "source": [
        "\n",
        "[Decision Tree](#arvore)\n",
        "\n",
        "\n",
        "[Neural Net](#redeneural)\n",
        "\n",
        "[CNN](#cnn)\n",
        "\n",
        "[VGG16 & MLP](#vggmlp)"
      ]
    },
    {
      "cell_type": "code",
      "execution_count": null,
      "metadata": {
        "colab": {
          "base_uri": "https://localhost:8080/"
        },
        "id": "LZYGLlJ3eEqP",
        "outputId": "d3b7d47f-bf72-4a74-8e9c-032f0bf13b48"
      },
      "outputs": [
        {
          "name": "stdout",
          "output_type": "stream",
          "text": [
            "Looking in indexes: https://pypi.org/simple, https://us-python.pkg.dev/colab-wheels/public/simple/\n",
            "Collecting keras-tuner\n",
            "  Downloading keras_tuner-1.1.2-py3-none-any.whl (133 kB)\n",
            "\u001b[K     |████████████████████████████████| 133 kB 4.9 MB/s \n",
            "\u001b[?25hRequirement already satisfied: packaging in /usr/local/lib/python3.7/dist-packages (from keras-tuner) (21.3)\n",
            "Requirement already satisfied: numpy in /usr/local/lib/python3.7/dist-packages (from keras-tuner) (1.21.6)\n",
            "Collecting kt-legacy\n",
            "  Downloading kt_legacy-1.0.4-py3-none-any.whl (9.6 kB)\n",
            "Requirement already satisfied: ipython in /usr/local/lib/python3.7/dist-packages (from keras-tuner) (5.5.0)\n",
            "Requirement already satisfied: tensorboard in /usr/local/lib/python3.7/dist-packages (from keras-tuner) (2.8.0)\n",
            "Requirement already satisfied: requests in /usr/local/lib/python3.7/dist-packages (from keras-tuner) (2.23.0)\n",
            "Requirement already satisfied: pickleshare in /usr/local/lib/python3.7/dist-packages (from ipython->keras-tuner) (0.7.5)\n",
            "Requirement already satisfied: traitlets>=4.2 in /usr/local/lib/python3.7/dist-packages (from ipython->keras-tuner) (5.1.1)\n",
            "Requirement already satisfied: decorator in /usr/local/lib/python3.7/dist-packages (from ipython->keras-tuner) (4.4.2)\n",
            "Requirement already satisfied: setuptools>=18.5 in /usr/local/lib/python3.7/dist-packages (from ipython->keras-tuner) (57.4.0)\n",
            "Requirement already satisfied: pexpect in /usr/local/lib/python3.7/dist-packages (from ipython->keras-tuner) (4.8.0)\n",
            "Requirement already satisfied: simplegeneric>0.8 in /usr/local/lib/python3.7/dist-packages (from ipython->keras-tuner) (0.8.1)\n",
            "Requirement already satisfied: prompt-toolkit<2.0.0,>=1.0.4 in /usr/local/lib/python3.7/dist-packages (from ipython->keras-tuner) (1.0.18)\n",
            "Requirement already satisfied: pygments in /usr/local/lib/python3.7/dist-packages (from ipython->keras-tuner) (2.6.1)\n",
            "Requirement already satisfied: wcwidth in /usr/local/lib/python3.7/dist-packages (from prompt-toolkit<2.0.0,>=1.0.4->ipython->keras-tuner) (0.2.5)\n",
            "Requirement already satisfied: six>=1.9.0 in /usr/local/lib/python3.7/dist-packages (from prompt-toolkit<2.0.0,>=1.0.4->ipython->keras-tuner) (1.15.0)\n",
            "Requirement already satisfied: pyparsing!=3.0.5,>=2.0.2 in /usr/local/lib/python3.7/dist-packages (from packaging->keras-tuner) (3.0.9)\n",
            "Requirement already satisfied: ptyprocess>=0.5 in /usr/local/lib/python3.7/dist-packages (from pexpect->ipython->keras-tuner) (0.7.0)\n",
            "Requirement already satisfied: urllib3!=1.25.0,!=1.25.1,<1.26,>=1.21.1 in /usr/local/lib/python3.7/dist-packages (from requests->keras-tuner) (1.24.3)\n",
            "Requirement already satisfied: certifi>=2017.4.17 in /usr/local/lib/python3.7/dist-packages (from requests->keras-tuner) (2022.6.15)\n",
            "Requirement already satisfied: idna<3,>=2.5 in /usr/local/lib/python3.7/dist-packages (from requests->keras-tuner) (2.10)\n",
            "Requirement already satisfied: chardet<4,>=3.0.2 in /usr/local/lib/python3.7/dist-packages (from requests->keras-tuner) (3.0.4)\n",
            "Requirement already satisfied: protobuf>=3.6.0 in /usr/local/lib/python3.7/dist-packages (from tensorboard->keras-tuner) (3.17.3)\n",
            "Requirement already satisfied: grpcio>=1.24.3 in /usr/local/lib/python3.7/dist-packages (from tensorboard->keras-tuner) (1.46.3)\n",
            "Requirement already satisfied: markdown>=2.6.8 in /usr/local/lib/python3.7/dist-packages (from tensorboard->keras-tuner) (3.3.7)\n",
            "Requirement already satisfied: werkzeug>=0.11.15 in /usr/local/lib/python3.7/dist-packages (from tensorboard->keras-tuner) (1.0.1)\n",
            "Requirement already satisfied: tensorboard-data-server<0.7.0,>=0.6.0 in /usr/local/lib/python3.7/dist-packages (from tensorboard->keras-tuner) (0.6.1)\n",
            "Requirement already satisfied: absl-py>=0.4 in /usr/local/lib/python3.7/dist-packages (from tensorboard->keras-tuner) (1.1.0)\n",
            "Requirement already satisfied: google-auth<3,>=1.6.3 in /usr/local/lib/python3.7/dist-packages (from tensorboard->keras-tuner) (1.35.0)\n",
            "Requirement already satisfied: tensorboard-plugin-wit>=1.6.0 in /usr/local/lib/python3.7/dist-packages (from tensorboard->keras-tuner) (1.8.1)\n",
            "Requirement already satisfied: google-auth-oauthlib<0.5,>=0.4.1 in /usr/local/lib/python3.7/dist-packages (from tensorboard->keras-tuner) (0.4.6)\n",
            "Requirement already satisfied: wheel>=0.26 in /usr/local/lib/python3.7/dist-packages (from tensorboard->keras-tuner) (0.37.1)\n",
            "Requirement already satisfied: pyasn1-modules>=0.2.1 in /usr/local/lib/python3.7/dist-packages (from google-auth<3,>=1.6.3->tensorboard->keras-tuner) (0.2.8)\n",
            "Requirement already satisfied: cachetools<5.0,>=2.0.0 in /usr/local/lib/python3.7/dist-packages (from google-auth<3,>=1.6.3->tensorboard->keras-tuner) (4.2.4)\n",
            "Requirement already satisfied: rsa<5,>=3.1.4 in /usr/local/lib/python3.7/dist-packages (from google-auth<3,>=1.6.3->tensorboard->keras-tuner) (4.8)\n",
            "Requirement already satisfied: requests-oauthlib>=0.7.0 in /usr/local/lib/python3.7/dist-packages (from google-auth-oauthlib<0.5,>=0.4.1->tensorboard->keras-tuner) (1.3.1)\n",
            "Requirement already satisfied: importlib-metadata>=4.4 in /usr/local/lib/python3.7/dist-packages (from markdown>=2.6.8->tensorboard->keras-tuner) (4.11.4)\n",
            "Requirement already satisfied: typing-extensions>=3.6.4 in /usr/local/lib/python3.7/dist-packages (from importlib-metadata>=4.4->markdown>=2.6.8->tensorboard->keras-tuner) (4.1.1)\n",
            "Requirement already satisfied: zipp>=0.5 in /usr/local/lib/python3.7/dist-packages (from importlib-metadata>=4.4->markdown>=2.6.8->tensorboard->keras-tuner) (3.8.0)\n",
            "Requirement already satisfied: pyasn1<0.5.0,>=0.4.6 in /usr/local/lib/python3.7/dist-packages (from pyasn1-modules>=0.2.1->google-auth<3,>=1.6.3->tensorboard->keras-tuner) (0.4.8)\n",
            "Requirement already satisfied: oauthlib>=3.0.0 in /usr/local/lib/python3.7/dist-packages (from requests-oauthlib>=0.7.0->google-auth-oauthlib<0.5,>=0.4.1->tensorboard->keras-tuner) (3.2.0)\n",
            "Installing collected packages: kt-legacy, keras-tuner\n",
            "Successfully installed keras-tuner-1.1.2 kt-legacy-1.0.4\n",
            "Downloading data from https://www.cs.toronto.edu/~kriz/cifar-10-python.tar.gz\n",
            "170500096/170498071 [==============================] - 2s 0us/step\n",
            "170508288/170498071 [==============================] - 2s 0us/step\n"
          ]
        }
      ],
      "source": [
        "#imports\n",
        "import numpy as np\n",
        "from sklearn import tree\n",
        "from sklearn.metrics import accuracy_score,confusion_matrix,classification_report\n",
        "from sklearn.model_selection import GridSearchCV,train_test_split\n",
        "import tensorflow as tf\n",
        "from tensorflow import keras\n",
        "from tensorflow.keras.utils import to_categorical\n",
        "from keras.layers import Activation, Dense,Dropout, Flatten, Conv2D, MaxPooling2D,BatchNormalization,UpSampling2D\n",
        "from tensorflow.keras import Sequential,backend as bk\n",
        "from tensorflow.keras.callbacks import Callback\n",
        "from tensorflow.keras.optimizers import SGD\n",
        "!pip install keras-tuner --upgrade\n",
        "import keras_tuner as kt\n",
        "from keras.applications.vgg16 import VGG16,preprocess_input\n",
        "from keras.preprocessing import image\n",
        "import seaborn as sn\n",
        "import pandas as pd\n",
        "import matplotlib.pyplot as plt\n",
        "import os,gc\n",
        "(x_train, y_train), (x_test, y_test) = keras.datasets.cifar10.load_data()\n",
        "\n",
        "data_size, px,py,rgb  = x_train.shape\n",
        "x_train_tree = x_train.reshape((data_size,px*py*rgb))\n",
        "data_size, px,py,rgb  = x_test.shape\n",
        "x_testarvore = x_test.reshape((data_size,px*py*rgb))\n",
        "y_train_tree = y_train\n",
        "\n",
        "x_train, x_val, y_train, y_val = train_test_split(x_train,y_train, test_size=0.20, random_state=42)\n",
        "\n",
        "x_train_vgg=x_train\n",
        "x_test_vgg=x_test\n",
        "x_val_vgg=x_val\n",
        "\n",
        "x_train = x_train/255.0\n",
        "x_test = x_test/255.0\n",
        "x_val = x_val/255.0\n",
        "\n",
        "data_size, px,py,rgb  = x_train.shape\n",
        "x_train_neural = x_train.reshape((data_size,px*py*rgb))\n",
        "data_size, px,py,rgb  = x_test.shape\n",
        "x_test2 = x_test.reshape((data_size,px*py*rgb))\n",
        "data_size, px,py,rgb  = x_val.shape\n",
        "x_val2 = x_val.reshape((data_size,px*py*rgb))\n",
        "\n",
        "labels = ['airplane','automobile','bird','cat','deer','dog','frog','horse','ship','truck']"
      ]
    },
    {
      "cell_type": "markdown",
      "metadata": {
        "id": "7JXxzD1UegVJ"
      },
      "source": [
        "<a name=\"arvore\"></a>\n",
        "## Decision Tree"
      ]
    },
    {
      "cell_type": "code",
      "execution_count": null,
      "metadata": {
        "id": "bZcHZHPpeizy"
      },
      "outputs": [],
      "source": [
        "def decision_tree():\n",
        "    clf = tree.DecisionTreeClassifier()\n",
        "    clf = clf.fit(x_train_tree, y_train_tree)\n",
        "    y_pred_tree=clf.predict(x_testarvore)\n",
        "    scr = (classification_report(y_pred_tree,y_test))\n",
        "    cm = (confusion_matrix(y_pred_tree,y_test))\n",
        "    return cm,scr\n",
        "confmatrix,sc = decision_tree()\n",
        "del x_train_tree,x_testarvore,y_train_tree"
      ]
    },
    {
      "cell_type": "code",
      "execution_count": null,
      "metadata": {
        "colab": {
          "base_uri": "https://localhost:8080/",
          "height": 950
        },
        "id": "YICCNfxlejrr",
        "outputId": "f4d2544f-2181-429d-d7fb-38a97995e5a9"
      },
      "outputs": [
        {
          "name": "stdout",
          "output_type": "stream",
          "text": [
            "              precision    recall  f1-score   support\n",
            "\n",
            "           0       0.34      0.33      0.33      1047\n",
            "           1       0.27      0.28      0.27       974\n",
            "           2       0.21      0.20      0.21      1042\n",
            "           3       0.17      0.17      0.17       982\n",
            "           4       0.24      0.23      0.23      1056\n",
            "           5       0.21      0.22      0.21       990\n",
            "           6       0.27      0.29      0.28       939\n",
            "           7       0.28      0.29      0.28       970\n",
            "           8       0.39      0.37      0.38      1032\n",
            "           9       0.29      0.30      0.29       968\n",
            "\n",
            "    accuracy                           0.27     10000\n",
            "   macro avg       0.27      0.27      0.27     10000\n",
            "weighted avg       0.27      0.27      0.27     10000\n",
            "\n"
          ]
        },
        {
          "data": {
            "text/plain": [
              "<matplotlib.axes._subplots.AxesSubplot at 0x7f051d9bdb50>"
            ]
          },
          "execution_count": 3,
          "metadata": {},
          "output_type": "execute_result"
        },
        {
          "data": {
            "image/png": "[encoded data removed]",
            "text/plain": [
              "<Figure size 720x720 with 2 Axes>"
            ]
          },
          "metadata": {
            "needs_background": "light"
          },
          "output_type": "display_data"
        }
      ],
      "source": [
        "print(sc)\n",
        "df_cm = pd.DataFrame(confmatrix, index = [i for i in labels],\n",
        "                  columns = [i for i in labels])\n",
        "plt.figure(figsize = (10,10))\n",
        "sn.heatmap(df_cm, annot=True,fmt='g',cmap=\"coolwarm\")"
      ]
    },
    {
      "cell_type": "markdown",
      "metadata": {
        "id": "n3rLQBksevZ4"
      },
      "source": [
        "### Tests"
      ]
    },
    {
      "cell_type": "code",
      "execution_count": null,
      "metadata": {
        "id": "FbuqR1ufe1Ze"
      },
      "outputs": [],
      "source": [
        "#Tree\n",
        "param={\"criterion\":['gini','entropy'],\"splitter\":[\"best\",\"random\"]}\n",
        "dec_tree= tree.DecisionTreeClassifier()\n",
        "grid = GridSearchCV(dec_tree,param_grid=param,scoring='accuracy',return_train_score=True, verbose=10)\n",
        "grid.fit(x_train_neural,y_train)\n",
        "print(grid.best_estimator_)"
      ]
    },
    {
      "cell_type": "markdown",
      "metadata": {
        "id": "u_uk5C1DfMTu"
      },
      "source": [
        "<a name=\"redeneural\"></a>\n",
        "## Neural Net"
      ]
    },
    {
      "cell_type": "code",
      "execution_count": null,
      "metadata": {
        "colab": {
          "base_uri": "https://localhost:8080/"
        },
        "id": "OWyzgl_ffQyb",
        "outputId": "9925a597-bbbf-4d78-b68e-4a3a3fe6a116"
      },
      "outputs": [
        {
          "name": "stdout",
          "output_type": "stream",
          "text": [
            "Epoch 1/18\n",
            "625/625 [==============================] - 8s 7ms/step - loss: 1.9516 - accuracy: 0.2909 - val_loss: 1.7475 - val_accuracy: 0.3726\n",
            "Epoch 2/18\n",
            "625/625 [==============================] - 3s 6ms/step - loss: 1.7396 - accuracy: 0.3734 - val_loss: 1.6663 - val_accuracy: 0.4034\n",
            "Epoch 3/18\n",
            "625/625 [==============================] - 3s 5ms/step - loss: 1.6428 - accuracy: 0.4093 - val_loss: 1.6442 - val_accuracy: 0.4105\n",
            "Epoch 4/18\n",
            "625/625 [==============================] - 5s 7ms/step - loss: 1.5750 - accuracy: 0.4397 - val_loss: 1.5976 - val_accuracy: 0.4156\n",
            "Epoch 5/18\n",
            "625/625 [==============================] - 3s 5ms/step - loss: 1.5161 - accuracy: 0.4549 - val_loss: 1.5461 - val_accuracy: 0.4469\n",
            "Epoch 6/18\n",
            "625/625 [==============================] - 2s 3ms/step - loss: 1.4770 - accuracy: 0.4690 - val_loss: 1.6086 - val_accuracy: 0.4344\n",
            "Epoch 7/18\n",
            "625/625 [==============================] - 2s 4ms/step - loss: 1.4295 - accuracy: 0.4874 - val_loss: 1.5417 - val_accuracy: 0.4556\n",
            "Epoch 8/18\n",
            "625/625 [==============================] - 2s 3ms/step - loss: 1.3849 - accuracy: 0.5016 - val_loss: 1.4475 - val_accuracy: 0.4819\n",
            "Epoch 9/18\n",
            "625/625 [==============================] - 2s 3ms/step - loss: 1.3491 - accuracy: 0.5160 - val_loss: 1.4588 - val_accuracy: 0.4799\n",
            "Epoch 10/18\n",
            "625/625 [==============================] - 2s 4ms/step - loss: 1.3148 - accuracy: 0.5292 - val_loss: 1.4845 - val_accuracy: 0.4725\n",
            "Epoch 11/18\n",
            "625/625 [==============================] - 2s 4ms/step - loss: 1.2769 - accuracy: 0.5416 - val_loss: 1.4785 - val_accuracy: 0.4791\n",
            "Epoch 12/18\n",
            "625/625 [==============================] - 2s 4ms/step - loss: 1.2412 - accuracy: 0.5544 - val_loss: 1.4123 - val_accuracy: 0.5082\n",
            "Epoch 13/18\n",
            "625/625 [==============================] - 2s 3ms/step - loss: 1.2143 - accuracy: 0.5656 - val_loss: 1.4654 - val_accuracy: 0.4974\n",
            "Epoch 14/18\n",
            "625/625 [==============================] - 2s 3ms/step - loss: 1.1707 - accuracy: 0.5803 - val_loss: 1.4119 - val_accuracy: 0.5090\n",
            "Epoch 15/18\n",
            "625/625 [==============================] - 2s 3ms/step - loss: 1.1367 - accuracy: 0.5893 - val_loss: 1.4258 - val_accuracy: 0.5124\n",
            "Epoch 16/18\n",
            "625/625 [==============================] - 2s 4ms/step - loss: 1.0993 - accuracy: 0.6024 - val_loss: 1.4367 - val_accuracy: 0.5067\n",
            "Epoch 17/18\n",
            "625/625 [==============================] - 2s 4ms/step - loss: 1.0690 - accuracy: 0.6154 - val_loss: 1.5229 - val_accuracy: 0.4876\n",
            "Epoch 18/18\n",
            "625/625 [==============================] - 2s 4ms/step - loss: 1.0234 - accuracy: 0.6309 - val_loss: 1.5356 - val_accuracy: 0.4838\n"
          ]
        }
      ],
      "source": [
        "def train_neural():\n",
        "  X_train_neural = np.concatenate((x_train_neural, x_val2)).astype('float32')\n",
        "  X_test_rede = x_test2.astype('float32')\n",
        "  nclasses = 10\n",
        "  Y_train_neural = to_categorical(np.concatenate((y_train,y_val)), nclasses)\n",
        "  Y_test_rede = to_categorical(y_test, nclasses)\n",
        "\n",
        "  model = Sequential()\n",
        "  model.add(Dense(512, input_shape=(px*py*rgb,)))\n",
        "  model.add(Activation('relu'))\n",
        "  model.add(Dense(384, input_shape=(px*py*rgb,)))\n",
        "  model.add(Activation('relu'))\n",
        "  model.add(Dense(512, input_shape=(px*py*rgb,)))\n",
        "  model.add(Activation('relu'))\n",
        "  model.add(Dense(10))\n",
        "  model.add(Activation('softmax'))\n",
        "\n",
        "  sgd = SGD(learning_rate=0.1)\n",
        "  model.compile(loss=\n",
        "  'categorical_crossentropy',optimizer=sgd,metrics=['accuracy'])\n",
        "\n",
        "  batch_size = 64\n",
        "  nb_epoch = 18\n",
        "  model.fit(X_train_neural, Y_train_neural,\n",
        "  batch_size=batch_size, epochs=nb_epoch,\n",
        "  verbose=1,\n",
        "  validation_split = 0.2)\n",
        "\n",
        "  score = model.evaluate(X_test_rede, Y_test_rede, verbose=0)\n",
        "\n",
        "  y_pred_rede=model.predict(X_test_rede)\n",
        "  y_pred_rede=np.argmax(y_pred_rede, axis=1)\n",
        "  Y_test_rede=np.argmax(Y_test_rede, axis=1)\n",
        "  cm = confusion_matrix(Y_test_rede, y_pred_rede)\n",
        "  return cm,score[1]\n",
        "\n",
        "confmatrix,sc = train_neural()\n",
        "del x_train_neural,x_test2,x_val2"
      ]
    },
    {
      "cell_type": "code",
      "execution_count": null,
      "metadata": {
        "colab": {
          "base_uri": "https://localhost:8080/",
          "height": 673
        },
        "id": "xRt-CAFWfROL",
        "outputId": "64a9429e-a6b2-4524-a319-3803f27928e0"
      },
      "outputs": [
        {
          "name": "stdout",
          "output_type": "stream",
          "text": [
            "0.4902999997138977\n"
          ]
        },
        {
          "data": {
            "text/plain": [
              "<matplotlib.axes._subplots.AxesSubplot at 0x7f05a0328a50>"
            ]
          },
          "execution_count": 5,
          "metadata": {},
          "output_type": "execute_result"
        },
        {
          "data": {
            "image/png": "[encoded data removed]",
            "text/plain": [
              "<Figure size 720x720 with 2 Axes>"
            ]
          },
          "metadata": {
            "needs_background": "light"
          },
          "output_type": "display_data"
        }
      ],
      "source": [
        "print(sc)\n",
        "df_cm = pd.DataFrame(confmatrix, index = [i for i in labels],\n",
        "                  columns = [i for i in labels])\n",
        "plt.figure(figsize = (10,10))\n",
        "sn.heatmap(df_cm, annot=True,fmt='g',cmap=\"coolwarm\")"
      ]
    },
    {
      "cell_type": "markdown",
      "metadata": {
        "id": "hnWhtSLkfV69"
      },
      "source": [
        "### Tests"
      ]
    },
    {
      "cell_type": "code",
      "execution_count": null,
      "metadata": {
        "id": "GzRACLGvfZM7"
      },
      "outputs": [],
      "source": [
        "X_train_neural = x_train_neural.astype('float32')\n",
        "X_val_rede = x_val2.astype('float32')\n",
        "X_test_rede = x_test2.astype('float32')\n",
        "nclasses = 10\n",
        "Y_train_neural = to_categorical(y_train, nclasses)\n",
        "Y_val_rede = to_categorical(y_val,nclasses)\n",
        "Y_test_rede = to_categorical(y_test, nclasses)\n",
        "\n",
        "def train_neural(hp):\n",
        "  model = Sequential()\n",
        "  model.add(Dense(units=hp.Int('dense1', min_value=32, max_value=512, step=32)))\n",
        "  model.add(Activation('relu'))\n",
        "  if hp.Boolean(\"denseadd2\"):\n",
        "    model.add(Dense(units=hp.Int('dense2', min_value=32, max_value=512, step=32)))\n",
        "    model.add(Activation('relu'))\n",
        "  if hp.Boolean(\"denseadd3\"):\n",
        "    model.add(Dense(units=hp.Int('dense3', min_value=32, max_value=512, step=32)))\n",
        "    model.add(Activation('relu'))\n",
        "  model.add(Dense(10,activation='softmax'))\n",
        "\n",
        "  lr = hp.Choice('learning_rate', values=[1e-1,1e-2, 1e-3])\n",
        "  sgd = SGD(learning_rate=lr)\n",
        "  model.compile(loss=\n",
        "  'categorical_crossentropy',optimizer=sgd,metrics=['accuracy'])\n",
        "\n",
        "  return model\n",
        "\n",
        "tuner = kt.tuners.BayesianOptimization(\n",
        "  train_neural,\n",
        "  objective='val_loss',\n",
        "  max_trials=100)\n",
        "\n",
        "tuner.search(X_train_neural, Y_train_neural, epochs=10, validation_data=(X_val_rede,Y_val_rede))\n",
        "for h_param in [f\"dense{i}\" for i in range(1,4)] + ['learning_rate'] + [f\"denseadd{i}\" for i in range(2,4)]:\n",
        "  print(h_param, tuner.get_best_hyperparameters()[0].get(h_param))\n",
        "#dense1 512\n",
        "#dense2 384\n",
        "#dense3 512\n",
        "#learning_rate 0.1\n",
        "#denseadd2 True\n",
        "#denseadd3 True"
      ]
    },
    {
      "cell_type": "code",
      "execution_count": null,
      "metadata": {
        "id": "VU6fUa3ofaSD"
      },
      "outputs": [],
      "source": [
        "def train_neural(param):\n",
        "  X_train_neural = x_train_neural.astype('float32')\n",
        "  X_val_rede = x_val2.astype('float32')\n",
        "  X_test_rede = x_test2.astype('float32')\n",
        "  nclasses = 10\n",
        "  Y_train_neural = to_categorical(y_train, nclasses)\n",
        "  Y_val_rede = to_categorical(y_val,nclasses)\n",
        "  Y_test_rede = to_categorical(y_test, nclasses)\n",
        "\n",
        "  model = Sequential()\n",
        "  model.add(Dense(512, input_shape=(px*py*rgb,)))\n",
        "  model.add(Activation('relu'))\n",
        "  model.add(Dense(384, input_shape=(px*py*rgb,)))\n",
        "  model.add(Activation('relu'))\n",
        "  model.add(Dense(512, input_shape=(px*py*rgb,)))\n",
        "  model.add(Activation('relu'))\n",
        "  model.add(Dense(10))\n",
        "  model.add(Activation('softmax'))\n",
        "\n",
        "  sgd = SGD(learning_rate=0.1)\n",
        "  model.compile(loss=\n",
        "  'categorical_crossentropy',optimizer=sgd,metrics=['accuracy'])\n",
        "\n",
        "\n",
        "  batch_size = param\n",
        "  nb_epoch = 10\n",
        "  model.fit(X_train_neural, Y_train_neural,\n",
        "  batch_size=batch_size, epochs=nb_epoch,\n",
        "  verbose=1,\n",
        "  validation_data=(X_val_rede, Y_val_rede))\n",
        "\n",
        "train_neural(1)\n",
        "train_neural(10)\n",
        "train_neural(16)\n",
        "train_neural(32)\n",
        "train_neural(64)\n",
        "train_neural(256)\n",
        "train_neural(512)\n",
        "\n",
        "#Result = 64. Best val loss and val accuracy"
      ]
    },
    {
      "cell_type": "code",
      "execution_count": null,
      "metadata": {
        "id": "kEkc7X6vfc-B"
      },
      "outputs": [],
      "source": [
        "def train_neural():\n",
        "  X_train_neural = x_train_neural.astype('float32')\n",
        "  X_val_rede = x_val2.astype('float32')\n",
        "  X_test_rede = x_test2.astype('float32')\n",
        "  nclasses = 10\n",
        "  Y_train_neural = to_categorical(y_train, nclasses)\n",
        "  Y_val_rede = to_categorical(y_val,nclasses)\n",
        "  Y_test_rede = to_categorical(y_test, nclasses)\n",
        "\n",
        "  model = Sequential()\n",
        "  model.add(Dense(512, input_shape=(px*py*rgb,)))\n",
        "  model.add(Activation('relu'))\n",
        "  model.add(Dense(384, input_shape=(px*py*rgb,)))\n",
        "  model.add(Activation('relu'))\n",
        "  model.add(Dense(512, input_shape=(px*py*rgb,)))\n",
        "  model.add(Activation('relu'))\n",
        "  model.add(Dense(10))\n",
        "  model.add(Activation('softmax'))\n",
        "\n",
        "  sgd = SGD(learning_rate=0.1)\n",
        "  model.compile(loss=\n",
        "  'categorical_crossentropy',optimizer=sgd,metrics=['accuracy'])\n",
        "\n",
        "  earlystopping = keras.callbacks.EarlyStopping(monitor =\"val_loss\",\n",
        "                                        mode =\"min\", patience = 5,\n",
        "                                        restore_best_weights = True)\n",
        "\n",
        "  batch_size = 64\n",
        "  nb_epoch = 1000\n",
        "  model.fit(X_train_neural, Y_train_neural,\n",
        "  batch_size=batch_size, epochs=nb_epoch,\n",
        "  verbose=1,\n",
        "  validation_data=(X_val_rede, Y_val_rede),callbacks=[earlystopping])\n",
        "train_neural()\n",
        "#result = 16"
      ]
    },
    {
      "cell_type": "markdown",
      "metadata": {
        "id": "eTSsqdN1fkIb"
      },
      "source": [
        "<a name=\"cnn\"></a>\n",
        "## Convolutional Neural Network"
      ]
    },
    {
      "cell_type": "code",
      "execution_count": null,
      "metadata": {
        "colab": {
          "base_uri": "https://localhost:8080/"
        },
        "id": "shWI0-L9fptx",
        "outputId": "7a587a84-3147-415e-9bcd-964f74c56523"
      },
      "outputs": [
        {
          "name": "stdout",
          "output_type": "stream",
          "text": [
            "Epoch 1/17\n",
            "4000/4000 [==============================] - 102s 23ms/step - loss: 2.6650 - accuracy: 0.2560 - val_loss: 1.9550 - val_accuracy: 0.3901\n",
            "Epoch 2/17\n",
            "4000/4000 [==============================] - 96s 24ms/step - loss: 2.0068 - accuracy: 0.3626 - val_loss: 1.7150 - val_accuracy: 0.4218\n",
            "Epoch 3/17\n",
            "4000/4000 [==============================] - 98s 24ms/step - loss: 1.7589 - accuracy: 0.4158 - val_loss: 1.5493 - val_accuracy: 0.4710\n",
            "Epoch 4/17\n",
            "4000/4000 [==============================] - 98s 24ms/step - loss: 1.5942 - accuracy: 0.4594 - val_loss: 1.3468 - val_accuracy: 0.5410\n",
            "Epoch 5/17\n",
            "4000/4000 [==============================] - 95s 24ms/step - loss: 1.4690 - accuracy: 0.5001 - val_loss: 1.2626 - val_accuracy: 0.5626\n",
            "Epoch 6/17\n",
            "4000/4000 [==============================] - 95s 24ms/step - loss: 1.3735 - accuracy: 0.5335 - val_loss: 1.1457 - val_accuracy: 0.5958\n",
            "Epoch 7/17\n",
            "4000/4000 [==============================] - 99s 25ms/step - loss: 1.2812 - accuracy: 0.5656 - val_loss: 1.1719 - val_accuracy: 0.6023\n",
            "Epoch 8/17\n",
            "4000/4000 [==============================] - 94s 24ms/step - loss: 1.2102 - accuracy: 0.5871 - val_loss: 1.1079 - val_accuracy: 0.6346\n",
            "Epoch 9/17\n",
            "4000/4000 [==============================] - 98s 25ms/step - loss: 1.1337 - accuracy: 0.6136 - val_loss: 1.0088 - val_accuracy: 0.6512\n",
            "Epoch 10/17\n",
            "4000/4000 [==============================] - 99s 25ms/step - loss: 1.0647 - accuracy: 0.6370 - val_loss: 1.0185 - val_accuracy: 0.6540\n",
            "Epoch 11/17\n",
            "4000/4000 [==============================] - 94s 24ms/step - loss: 1.0036 - accuracy: 0.6578 - val_loss: 1.1394 - val_accuracy: 0.6335\n",
            "Epoch 12/17\n",
            "4000/4000 [==============================] - 94s 24ms/step - loss: 0.9332 - accuracy: 0.6805 - val_loss: 0.9538 - val_accuracy: 0.6776\n",
            "Epoch 13/17\n",
            "4000/4000 [==============================] - 94s 24ms/step - loss: 0.8784 - accuracy: 0.7003 - val_loss: 0.9840 - val_accuracy: 0.6748\n",
            "Epoch 14/17\n",
            "4000/4000 [==============================] - 95s 24ms/step - loss: 0.8217 - accuracy: 0.7214 - val_loss: 0.9748 - val_accuracy: 0.6877\n",
            "Epoch 15/17\n",
            "4000/4000 [==============================] - 94s 24ms/step - loss: 0.7487 - accuracy: 0.7445 - val_loss: 0.9431 - val_accuracy: 0.7023\n",
            "Epoch 16/17\n",
            "4000/4000 [==============================] - 99s 25ms/step - loss: 0.6809 - accuracy: 0.7674 - val_loss: 1.0456 - val_accuracy: 0.6797\n",
            "Epoch 17/17\n",
            "4000/4000 [==============================] - 94s 24ms/step - loss: 0.6234 - accuracy: 0.7866 - val_loss: 1.0899 - val_accuracy: 0.6712\n"
          ]
        }
      ],
      "source": [
        "def train_neuralconvolutional():\n",
        "  X_train_neural = np.concatenate((x_train,x_val))\n",
        "  X_test_rede = x_test\n",
        "  nclasses = 10\n",
        "  Y_train_neural = to_categorical(np.concatenate((y_train,y_val)), nclasses)\n",
        "  Y_test_rede = to_categorical(y_test, nclasses)\n",
        "\n",
        "  model = Sequential()\n",
        "  model.add(Conv2D(filters = 192,kernel_size=11,padding='same'))\n",
        "  model.add(Activation('relu'))\n",
        "  model.add(MaxPooling2D(pool_size=2, padding='same', strides=2))\n",
        "\n",
        "  model.add(Conv2D(filters = 256,kernel_size=5,padding='same'))\n",
        "  model.add(Activation('relu'))\n",
        "  model.add(BatchNormalization())\n",
        "  model.add(MaxPooling2D(pool_size=2, padding='same', strides=2))\n",
        "\n",
        "  model.add(Conv2D(filters = 416,kernel_size=3,padding='same'))\n",
        "  model.add(Activation('relu'))\n",
        "  model.add(BatchNormalization())\n",
        "  model.add(Conv2D(filters = 384,kernel_size=3,padding='same'))\n",
        "  model.add(Activation('relu'))\n",
        "  model.add(Conv2D(filters = 288,kernel_size=3,padding='same'))\n",
        "  model.add(Activation('relu'))\n",
        "  model.add(MaxPooling2D(pool_size=2,padding='same', strides=2))\n",
        "  model.add(Flatten())\n",
        "\n",
        "  model.add(Dense(8912))\n",
        "  model.add(Activation('relu'))\n",
        "  model.add(BatchNormalization())\n",
        "  model.add(Dropout(0.5))\n",
        "  model.add(Dense(5120))\n",
        "  model.add(Activation('relu'))\n",
        "  model.add(BatchNormalization())\n",
        "  model.add(Dropout(0.5))\n",
        "\n",
        "  model.add(Dense(10))\n",
        "  model.add(Activation('softmax'))\n",
        "\n",
        "  sgd = SGD(learning_rate=0.001)\n",
        "  model.compile(loss=\n",
        "  'categorical_crossentropy',optimizer=sgd,metrics=['accuracy'])\n",
        "  batch_size = 10\n",
        "  nb_epoch = 17\n",
        "\n",
        "  model.fit(X_train_neural, Y_train_neural,\n",
        "  batch_size=batch_size, epochs=nb_epoch,\n",
        "  verbose=1,\n",
        "  validation_split=0.2)\n",
        "\n",
        "  score = model.evaluate(X_test_rede, Y_test_rede, verbose=0)\n",
        "  y_pred_rede=model.predict(X_test_rede)\n",
        "  y_pred_rede=np.argmax(y_pred_rede, axis=1)\n",
        "  Y_test_rede=np.argmax(Y_test_rede, axis=1)\n",
        "  cm = confusion_matrix(Y_test_rede, y_pred_rede)\n",
        "  return cm,score[1]\n",
        "\n",
        "confmatrix,sc = train_neuralconvolutional()\n",
        "del x_train,x_val,x_test"
      ]
    },
    {
      "cell_type": "code",
      "execution_count": null,
      "metadata": {
        "colab": {
          "base_uri": "https://localhost:8080/",
          "height": 673
        },
        "id": "5RPFVPRGfvng",
        "outputId": "e0b8d057-e9eb-40db-855b-d3a6d215b42d"
      },
      "outputs": [
        {
          "name": "stdout",
          "output_type": "stream",
          "text": [
            "0.6620000004768372\n"
          ]
        },
        {
          "data": {
            "text/plain": [
              "<matplotlib.axes._subplots.AxesSubplot at 0x7f049e16ab50>"
            ]
          },
          "execution_count": 7,
          "metadata": {},
          "output_type": "execute_result"
        },
        {
          "data": {
            "image/png": "[encoded data removed]",
            "text/plain": [
              "<Figure size 720x720 with 2 Axes>"
            ]
          },
          "metadata": {
            "needs_background": "light"
          },
          "output_type": "display_data"
        }
      ],
      "source": [
        "print(sc)\n",
        "df_cm = pd.DataFrame(confmatrix, index = [i for i in labels],\n",
        "                  columns = [i for i in labels])\n",
        "plt.figure(figsize = (10,10))\n",
        "sn.heatmap(df_cm, annot=True,fmt='g',cmap=\"coolwarm\")"
      ]
    },
    {
      "cell_type": "markdown",
      "metadata": {
        "id": "Z_KZIdm9frlo"
      },
      "source": [
        "### Tests"
      ]
    },
    {
      "cell_type": "code",
      "execution_count": null,
      "metadata": {
        "id": "7L0m9DJ7f0if"
      },
      "outputs": [],
      "source": [
        "X_train_neural = x_train\n",
        "X_val_rede = x_val\n",
        "X_test_rede = x_test\n",
        "nclasses = 10\n",
        "Y_train_neural = to_categorical(y_train, nclasses)\n",
        "Y_val_rede = to_categorical(y_val,nclasses)\n",
        "Y_test_rede = to_categorical(y_test, nclasses)\n",
        "\n",
        "def train_neuralconvolutional(hp):\n",
        "  model = Sequential()\n",
        "  model.add(Conv2D(filters = hp.Int(name='convolucao1',\n",
        "                                                      min_value=96,\n",
        "                                                       max_value=256,\n",
        "                                                       default=96,\n",
        "                                                       step=32),\n",
        "                                      kernel_size=11, strides=4, padding='same'))\n",
        "  model.add(Activation('relu'))\n",
        "  if hp.Boolean(\"BN1\"):\n",
        "      model.add(BatchNormalization())\n",
        "  model.add(MaxPooling2D(pool_size=2, padding='same', strides=2))\n",
        "  model.add(Conv2D(filters = hp.Int(name='convolucao2',\n",
        "                                                       min_value=256,\n",
        "                                                       max_value=512,\n",
        "                                                       default=256,\n",
        "                                                       step=32),\n",
        "                                      kernel_size=5, padding='same'))\n",
        "  model.add(Activation('relu'))\n",
        "  if hp.Boolean(\"BN2\"):\n",
        "      model.add(BatchNormalization())\n",
        "  model.add(MaxPooling2D(pool_size=2, padding='same', strides=2))\n",
        "\n",
        "  model.add(Conv2D(filters = hp.Int(name='convolucao3',\n",
        "                                                       min_value=384,\n",
        "                                                       max_value=512,\n",
        "                                                       default=384,\n",
        "                                                       step=32),\n",
        "                                      kernel_size=3, padding='same'))\n",
        "  model.add(Activation('relu'))\n",
        "  if hp.Boolean(\"BN3\"):\n",
        "      model.add(BatchNormalization())\n",
        "  model.add(Conv2D(filters = hp.Int(name='convolucao4',\n",
        "                                                       min_value=384,\n",
        "                                                       max_value=512,\n",
        "                                                       default=384,\n",
        "                                                       step=32),\n",
        "                                      kernel_size=3, padding='same'))\n",
        "  model.add(Activation('relu'))\n",
        "  if hp.Boolean(\"BN4\"):\n",
        "      model.add(BatchNormalization())\n",
        "  model.add(Conv2D(filters = hp.Int(name='convolucao5',\n",
        "                                                       min_value=256,\n",
        "                                                       max_value=512,\n",
        "                                                       default=256,\n",
        "                                                       step=32),\n",
        "                                      kernel_size=3, padding='same'))\n",
        "  model.add(Activation('relu'))\n",
        "  if hp.Boolean(\"BN5\"):\n",
        "      model.add(BatchNormalization())\n",
        "  model.add(MaxPooling2D(pool_size=2,padding='same', strides=2))\n",
        "  model.add(Flatten())\n",
        "\n",
        "  model.add(Dense(units = hp.Int(name='dense1',\n",
        "                                                  min_value=4096,\n",
        "                                                  max_value=8192,\n",
        "                                                  default=4096,\n",
        "                                                  step=256)))\n",
        "  model.add(Activation('relu'))\n",
        "  if hp.Boolean(\"BN6\"):\n",
        "      model.add(BatchNormalization())\n",
        "  model.add(Dropout(hp.Float('dropout_1', 0, 0.5, step=0.1, default=0.5)))\n",
        "  model.add(Dense(units = hp.Int(name='dense2',\n",
        "                                                   min_value=4096,\n",
        "                                                    max_value=8192,\n",
        "                                                    default=4096,\n",
        "                                                    step=256)))\n",
        "  model.add(Activation('relu'))\n",
        "  if hp.Boolean(\"BN7\"):\n",
        "      model.add(BatchNormalization())\n",
        "  model.add(Dropout(hp.Float('dropout_2', 0, 0.5, step=0.1, default=0.5)))\n",
        "\n",
        "  model.add(Dense(10))\n",
        "  model.add(Activation('softmax'))\n",
        "\n",
        "  lr = hp.Choice('learning_rate', values=[1e-1,1e-2, 1e-3])\n",
        "  sgd = SGD(learning_rate=lr)\n",
        "  model.compile(loss=\n",
        "  'categorical_crossentropy',optimizer=sgd,metrics=['accuracy'])\n",
        "  return model\n",
        "\n",
        "\n",
        "tuner = kt.tuners.BayesianOptimization(\n",
        "  train_neuralconvolutional,\n",
        "  objective='val_loss',\n",
        "  max_trials=100\n",
        ")\n",
        "\n",
        "tuner.search(X_train_neural, Y_train_neural, epochs=10, validation_data=(X_val_rede,Y_val_rede))\n",
        "for h_param in [f\"convolucao{i}\" for i in range(1,6)] + [f\"dense{i}\" for i in range(1,3)] +[f\"dropout_{i}\" for i in range(1,3)] + [f\"BN{i}\" for i in range(1,8)] + ['learning_rate']:\n",
        "  print(h_param, tuner.get_best_hyperparameters()[0].get(h_param))\n",
        "\n",
        "#convolucao1 192\n",
        "#convolucao2 256\n",
        "#convolucao3 416\n",
        "#convolucao4 384\n",
        "#convolucao5 288\n",
        "#dense1 8192\n",
        "#dense2 5120\n",
        "#dropout_1 0.5\n",
        "#dropout_2 0.5\n",
        "#BN1 False\n",
        "#BN2 True\n",
        "#BN3 True\n",
        "#BN4 False\n",
        "#BN5 False\n",
        "#BN6 True\n",
        "#BN7 True\n",
        "#learning_rate 0.001"
      ]
    },
    {
      "cell_type": "code",
      "execution_count": null,
      "metadata": {
        "id": "uwFwlsqbf3L3"
      },
      "outputs": [],
      "source": [
        "class ClearMemory(Callback):\n",
        "    def on_epoch_end(self, epoch, logs=None):\n",
        "        gc.collect()\n",
        "        bk.clear_session()\n",
        "\n",
        "def train_neuralconvolutional(param):\n",
        "  X_train_neural = x_train\n",
        "  X_val_rede = x_val\n",
        "  X_test_rede = x_test\n",
        "  nclasses = 10\n",
        "  Y_train_neural = to_categorical(y_train, nclasses)\n",
        "  Y_val_rede = to_categorical(y_val,nclasses)\n",
        "  Y_test_rede = to_categorical(y_test, nclasses)\n",
        "  model = Sequential()\n",
        "  model.add(Conv2D(filters = 192,kernel_size=11,padding='same'))\n",
        "  model.add(Activation('relu'))\n",
        "  model.add(MaxPooling2D(pool_size=2, padding='same', strides=2))\n",
        "\n",
        "  model.add(Conv2D(filters = 256,kernel_size=5,padding='same'))\n",
        "  model.add(Activation('relu'))\n",
        "  model.add(BatchNormalization())\n",
        "  model.add(MaxPooling2D(pool_size=2, padding='same', strides=2))\n",
        "\n",
        "  model.add(Conv2D(filters = 416,kernel_size=3,padding='same'))\n",
        "  model.add(Activation('relu'))\n",
        "  model.add(BatchNormalization())\n",
        "  model.add(Conv2D(filters = 384,kernel_size=3,padding='same'))\n",
        "  model.add(Activation('relu'))\n",
        "  model.add(Conv2D(filters = 288,kernel_size=3,padding='same'))\n",
        "  model.add(Activation('relu'))\n",
        "  model.add(MaxPooling2D(pool_size=2,padding='same', strides=2))\n",
        "  model.add(Flatten())\n",
        "\n",
        "  model.add(Dense(8912))\n",
        "  model.add(Activation('relu'))\n",
        "  model.add(BatchNormalization())\n",
        "  model.add(Dropout(0.5))\n",
        "  model.add(Dense(5120))\n",
        "  model.add(Activation('relu'))\n",
        "  model.add(BatchNormalization())\n",
        "  model.add(Dropout(0.5))\n",
        "\n",
        "  model.add(Dense(10))\n",
        "  model.add(Activation('softmax'))\n",
        "\n",
        "  sgd = SGD(learning_rate=0.001)\n",
        "  model.compile(loss=\n",
        "  'categorical_crossentropy',optimizer=sgd,metrics=['accuracy'])\n",
        "  batch_size = param\n",
        "  nb_epoch = 10\n",
        "\n",
        "  model.fit(X_train_neural, Y_train_neural,\n",
        "  batch_size=batch_size, epochs=nb_epoch,\n",
        "  verbose=1,\n",
        "  validation_data=(X_val_rede, Y_val_rede),callbacks=[ClearMemory()])\n",
        "\n",
        "train_neuralconvolutional(10)\n",
        "train_neuralconvolutional(32)\n",
        "train_neuralconvolutional(64)\n",
        "train_neuralconvolutional(100)\n",
        "train_neuralconvolutional(256)\n",
        "#result = 10"
      ]
    },
    {
      "cell_type": "code",
      "execution_count": null,
      "metadata": {
        "id": "VeOljdKof5cR"
      },
      "outputs": [],
      "source": [
        "class ClearMemory(Callback):\n",
        "    def on_epoch_end(self, epoch, logs=None):\n",
        "        gc.collect()\n",
        "        bk.clear_session()\n",
        "\n",
        "def train_neuralconvolutional():\n",
        "  X_train_neural = x_train\n",
        "  X_val_rede = x_val\n",
        "  X_test_rede = x_test\n",
        "  nclasses = 10\n",
        "  Y_train_neural = to_categorical(y_train, nclasses)\n",
        "  Y_val_rede = to_categorical(y_val,nclasses)\n",
        "  Y_test_rede = to_categorical(y_test, nclasses)\n",
        "\n",
        "  model = Sequential()\n",
        "  model.add(Conv2D(filters = 192,kernel_size=11,padding='same'))\n",
        "  model.add(Activation('relu'))\n",
        "  model.add(MaxPooling2D(pool_size=2, padding='same', strides=2))\n",
        "\n",
        "  model.add(Conv2D(filters = 256,kernel_size=5,padding='same'))\n",
        "  model.add(Activation('relu'))\n",
        "  model.add(BatchNormalization())\n",
        "  model.add(MaxPooling2D(pool_size=2, padding='same', strides=2))\n",
        "\n",
        "  model.add(Conv2D(filters = 416,kernel_size=3,padding='same'))\n",
        "  model.add(Activation('relu'))\n",
        "  model.add(BatchNormalization())\n",
        "  model.add(Conv2D(filters = 384,kernel_size=3,padding='same'))\n",
        "  model.add(Activation('relu'))\n",
        "  model.add(Conv2D(filters = 288,kernel_size=3,padding='same'))\n",
        "  model.add(Activation('relu'))\n",
        "  model.add(MaxPooling2D(pool_size=2,padding='same', strides=2))\n",
        "  model.add(Flatten())\n",
        "\n",
        "  model.add(Dense(8912))\n",
        "  model.add(Activation('relu'))\n",
        "  model.add(BatchNormalization())\n",
        "  model.add(Dropout(0.5))\n",
        "  model.add(Dense(5120))\n",
        "  model.add(Activation('relu'))\n",
        "  model.add(BatchNormalization())\n",
        "  model.add(Dropout(0.5))\n",
        "\n",
        "  model.add(Dense(10))\n",
        "  model.add(Activation('softmax'))\n",
        "\n",
        "  sgd = SGD(learning_rate=0.001)\n",
        "  model.compile(loss=\n",
        "  'categorical_crossentropy',optimizer=sgd,metrics=['accuracy'])\n",
        "  earlystopping = keras.callbacks.EarlyStopping(monitor =\"val_loss\",\n",
        "                                        mode =\"min\", patience = 5,\n",
        "                                        restore_best_weights = True)\n",
        "  batch_size = 10\n",
        "  nb_epoch = 200\n",
        "\n",
        "  model.fit(X_train_neural, Y_train_neural,\n",
        "  batch_size=batch_size, epochs=nb_epoch,\n",
        "  verbose=1,\n",
        "  validation_data=(X_val_rede, Y_val_rede),callbacks=[ClearMemory(),earlystopping])\n",
        "\n",
        "train_neuralconvolutional()\n",
        "#result = 17"
      ]
    },
    {
      "cell_type": "markdown",
      "metadata": {
        "id": "Dl5bYq87gEjw"
      },
      "source": [
        "<a name=\"vggmlp\"></a>\n",
        "## VGG16 & MLP"
      ]
    },
    {
      "cell_type": "code",
      "execution_count": null,
      "metadata": {
        "colab": {
          "base_uri": "https://localhost:8080/"
        },
        "id": "oQ4-SnE6gGj1",
        "outputId": "1417007f-61ba-445c-9daf-d7bbee51b922"
      },
      "outputs": [
        {
          "name": "stdout",
          "output_type": "stream",
          "text": [
            "Downloading data from https://storage.googleapis.com/tensorflow/keras-applications/vgg16/vgg16_weights_tf_dim_ordering_tf_kernels_notop.h5\n",
            "58892288/58889256 [==============================] - 1s 0us/step\n",
            "58900480/58889256 [==============================] - 1s 0us/step\n",
            "Epoch 1/18\n",
            "2500/2500 [==============================] - 8s 3ms/step - loss: 1.2437 - accuracy: 0.6446 - val_loss: 0.7921 - val_accuracy: 0.7539\n",
            "Epoch 2/18\n",
            "2500/2500 [==============================] - 7s 3ms/step - loss: 0.8074 - accuracy: 0.7294 - val_loss: 0.7623 - val_accuracy: 0.7672\n",
            "Epoch 3/18\n",
            "2500/2500 [==============================] - 7s 3ms/step - loss: 0.7283 - accuracy: 0.7562 - val_loss: 0.6870 - val_accuracy: 0.7843\n",
            "Epoch 4/18\n",
            "2500/2500 [==============================] - 7s 3ms/step - loss: 0.6747 - accuracy: 0.7702 - val_loss: 0.6757 - val_accuracy: 0.7848\n",
            "Epoch 5/18\n",
            "2500/2500 [==============================] - 7s 3ms/step - loss: 0.6317 - accuracy: 0.7844 - val_loss: 0.6578 - val_accuracy: 0.7913\n",
            "Epoch 6/18\n",
            "2500/2500 [==============================] - 7s 3ms/step - loss: 0.5966 - accuracy: 0.7952 - val_loss: 0.6138 - val_accuracy: 0.8007\n",
            "Epoch 7/18\n",
            "2500/2500 [==============================] - 7s 3ms/step - loss: 0.5617 - accuracy: 0.8052 - val_loss: 0.6052 - val_accuracy: 0.8037\n",
            "Epoch 8/18\n",
            "2500/2500 [==============================] - 7s 3ms/step - loss: 0.5481 - accuracy: 0.8087 - val_loss: 0.6050 - val_accuracy: 0.8022\n",
            "Epoch 9/18\n",
            "2500/2500 [==============================] - 7s 3ms/step - loss: 0.5106 - accuracy: 0.8218 - val_loss: 0.5987 - val_accuracy: 0.8030\n",
            "Epoch 10/18\n",
            "2500/2500 [==============================] - 7s 3ms/step - loss: 0.5015 - accuracy: 0.8256 - val_loss: 0.5941 - val_accuracy: 0.8034\n",
            "Epoch 11/18\n",
            "2500/2500 [==============================] - 7s 3ms/step - loss: 0.4716 - accuracy: 0.8340 - val_loss: 0.5749 - val_accuracy: 0.8083\n",
            "Epoch 12/18\n",
            "2500/2500 [==============================] - 7s 3ms/step - loss: 0.4580 - accuracy: 0.8409 - val_loss: 0.5820 - val_accuracy: 0.8089\n",
            "Epoch 13/18\n",
            "2500/2500 [==============================] - 7s 3ms/step - loss: 0.4432 - accuracy: 0.8420 - val_loss: 0.5786 - val_accuracy: 0.8102\n",
            "Epoch 14/18\n",
            "2500/2500 [==============================] - 7s 3ms/step - loss: 0.4256 - accuracy: 0.8498 - val_loss: 0.5724 - val_accuracy: 0.8118\n",
            "Epoch 15/18\n",
            "2500/2500 [==============================] - 7s 3ms/step - loss: 0.4070 - accuracy: 0.8569 - val_loss: 0.5681 - val_accuracy: 0.8122\n",
            "Epoch 16/18\n",
            "2500/2500 [==============================] - 7s 3ms/step - loss: 0.3935 - accuracy: 0.8609 - val_loss: 0.5716 - val_accuracy: 0.8121\n",
            "Epoch 17/18\n",
            "2500/2500 [==============================] - 7s 3ms/step - loss: 0.3806 - accuracy: 0.8640 - val_loss: 0.5764 - val_accuracy: 0.8108\n",
            "Epoch 18/18\n",
            "2500/2500 [==============================] - 7s 3ms/step - loss: 0.3762 - accuracy: 0.8672 - val_loss: 0.5861 - val_accuracy: 0.8049\n"
          ]
        }
      ],
      "source": [
        "def Extract_VGG16(x_train_e,x_val_e,x_test_e):\n",
        "  x_train_e = preprocess_input(np.concatenate((x_train_e,x_val_e)).astype('float32'))\n",
        "  x_test_e = preprocess_input(x_test_e.astype('float32'))\n",
        "  model = Sequential()\n",
        "  model.add(UpSampling2D())\n",
        "  model.add(VGG16(weights='imagenet', include_top=False,pooling='avg'))\n",
        "  return model.predict(x_train_e),model.predict(x_test_e)\n",
        "\n",
        "def MLP():\n",
        "  model = Sequential()\n",
        "  model.add(Flatten())\n",
        "  model.add(Dense(768, activation=('relu')))\n",
        "  model.add(Dropout(0.5))\n",
        "  model.add(Dense(416, activation=('relu')))\n",
        "  model.add(Dropout(0.2))\n",
        "  model.add(Dense(10))\n",
        "  model.add(Activation('softmax'))\n",
        "\n",
        "  sgd = SGD(learning_rate=0.01)\n",
        "\n",
        "  model.compile(loss=\n",
        "  'categorical_crossentropy',optimizer=sgd,metrics=['accuracy'])\n",
        "\n",
        "  nclasses = 10\n",
        "  Y_train_neural = to_categorical(np.concatenate((y_train,y_val)),nclasses)\n",
        "  Y_test_rede = to_categorical(y_test,nclasses)\n",
        "  batch_size = 16\n",
        "  nb_epoch = 18\n",
        "  model.fit(X_train_features, Y_train_neural,\n",
        "  batch_size=batch_size, epochs=nb_epoch,\n",
        "  verbose=1,\n",
        "  validation_split = 0.2)\n",
        "\n",
        "  score = model.evaluate(X_test_features, Y_test_rede, verbose=0)\n",
        "\n",
        "  y_pred_rede=model.predict(X_test_features)\n",
        "  y_pred_rede=np.argmax(y_pred_rede, axis=1)\n",
        "  Y_test_rede=np.argmax(Y_test_rede, axis=1)\n",
        "  cm = confusion_matrix(Y_test_rede, y_pred_rede)\n",
        "  return cm,score[1]\n",
        "\n",
        "X_train_features,X_test_features = Extract_VGG16(x_train_vgg,x_val_vgg,x_test_vgg)\n",
        "\n",
        "confmatrix,sc = MLP()"
      ]
    },
    {
      "cell_type": "code",
      "execution_count": null,
      "metadata": {
        "colab": {
          "base_uri": "https://localhost:8080/",
          "height": 673
        },
        "id": "2QthJ8hegHy_",
        "outputId": "c91feed0-20c1-4855-af97-ae51fa24e4cf"
      },
      "outputs": [
        {
          "name": "stdout",
          "output_type": "stream",
          "text": [
            "0.8046000003814697\n"
          ]
        },
        {
          "data": {
            "text/plain": [
              "<matplotlib.axes._subplots.AxesSubplot at 0x7f0488a4dc90>"
            ]
          },
          "execution_count": 9,
          "metadata": {},
          "output_type": "execute_result"
        },
        {
          "data": {
            "image/png": "[encoded data removed]",
            "text/plain": [
              "<Figure size 720x720 with 2 Axes>"
            ]
          },
          "metadata": {
            "needs_background": "light"
          },
          "output_type": "display_data"
        }
      ],
      "source": [
        "print(sc)\n",
        "df_cm = pd.DataFrame(confmatrix, index = [i for i in labels],\n",
        "                  columns = [i for i in labels])\n",
        "plt.figure(figsize = (10,10))\n",
        "sn.heatmap(df_cm, annot=True,fmt='g',cmap=\"coolwarm\")"
      ]
    },
    {
      "cell_type": "markdown",
      "metadata": {
        "id": "PjCM2q4JgIt1"
      },
      "source": [
        "### Tests"
      ]
    },
    {
      "cell_type": "code",
      "execution_count": null,
      "metadata": {
        "id": "i4Jcj1CYgLr8"
      },
      "outputs": [],
      "source": [
        "def Extract_VGG16(x_train_e,x_val_e,x_test_e):\n",
        "  x_train_e = preprocess_input(x_train_e.astype('float32'))\n",
        "  x_val_e = preprocess_input(x_val_e.astype('float32'))\n",
        "  x_test_e = preprocess_input(x_test_e.astype('float32'))\n",
        "  model = Sequential()\n",
        "  model.add(UpSampling2D())\n",
        "  model.add(VGG16(weights='imagenet', include_top=False,pooling='avg'))\n",
        "  return model.predict(x_train_e),model.predict(x_val_e),model.predict(x_test_e)\n",
        "\n",
        "X_train_features,X_val_features,X_test_features = Extract_VGG16(x_train_vgg,x_val_vgg,x_test_vgg)\n",
        "\n",
        "def MLP(hp):\n",
        "  model = Sequential()\n",
        "  model.add(Flatten())\n",
        "  model.add(Dense(units = hp.Int(name='dense1',min_value=256,max_value=9216,default=256,step=32)))\n",
        "  model.add(Activation('relu'))\n",
        "  model.add(Dropout(hp.Float('dropout_1', 0, 0.5, step=0.1, default=0.5)))\n",
        "\n",
        "  if hp.Boolean(\"denseadd1\"):\n",
        "    model.add(Dense(units=hp.Int('dense2', min_value=32, max_value=4608, step=32)))\n",
        "    model.add(Activation('relu'))\n",
        "    model.add(Dropout(hp.Float('dropout_2', 0, 0.5, step=0.1, default=0.5)))\n",
        "\n",
        "  if hp.Boolean(\"denseadd2\"):\n",
        "      model.add(Dense(units = hp.Int(name='dense3',min_value=32,max_value=4608,default=32,step=32)))\n",
        "      model.add(Activation('relu'))\n",
        "      model.add(Dropout(hp.Float('dropout_3', 0, 0.5, step=0.1, default=0.5)))\n",
        "\n",
        "  if hp.Boolean(\"denseadd3\"):\n",
        "      model.add(Dense(units = hp.Int(name='dense4',min_value=32,max_value=4608,default=32,step=32)))\n",
        "      model.add(Activation('relu'))\n",
        "      model.add(Dropout(hp.Float('dropout_4', 0, 0.5, step=0.1, default=0.5)))\n",
        "\n",
        "  model.add(Dense(10))\n",
        "  model.add(Activation('softmax'))\n",
        "  lr = hp.Choice('learning_rate', values=[1e-1,1e-2, 1e-3])\n",
        "  sgd = SGD(learning_rate=lr)\n",
        "  model.compile(loss=\n",
        "  'categorical_crossentropy',optimizer=sgd,metrics=['accuracy'])\n",
        "  return model\n",
        "\n",
        "\n",
        "nclasses = 10\n",
        "Y_train_neural = to_categorical(y_train, nclasses)\n",
        "Y_val_rede = to_categorical(y_val,nclasses)\n",
        "Y_test_rede = to_categorical(y_test, nclasses)\n",
        "\n",
        "tuner = kt.tuners.BayesianOptimization(\n",
        "    MLP,\n",
        "    objective='val_loss',\n",
        "    max_trials=100\n",
        ")\n",
        "tuner.search(X_train_features, Y_train_neural, epochs=10, validation_data=(X_val_features,Y_val_rede))\n",
        "for h_param in [f\"dense{i}\" for i in range(1,5)] +[f\"dropout_{i}\" for i in range(1,5)] + [f\"denseadd{i}\" for i in range(1,4)] + ['learning_rate']:\n",
        "  print(h_param, tuner.get_best_hyperparameters()[0].get(h_param))\n",
        "#dense1 768\n",
        "#dense2 416\n",
        "#dense3 96\n",
        "#dense4 192\n",
        "#dropout_1 0.5\n",
        "#dropout_2 0.2\n",
        "#dropout_3 0.5\n",
        "#dropout_4 0.30000000000000004\n",
        "#denseadd1 True\n",
        "#denseadd2 False\n",
        "#denseadd3 False\n",
        "#learning_rate 0.01"
      ]
    },
    {
      "cell_type": "code",
      "execution_count": null,
      "metadata": {
        "id": "l_1mbuoRgNGA"
      },
      "outputs": [],
      "source": [
        "def Extract_VGG16(x_train_e,x_val_e,x_test_e):\n",
        "  x_train_e = preprocess_input(x_train_e.astype('float32'))\n",
        "  x_val_e = preprocess_input(x_val_e.astype('float32'))\n",
        "  x_test_e = preprocess_input(x_test_e.astype('float32'))\n",
        "  model = Sequential()\n",
        "  model.add(UpSampling2D())\n",
        "  model.add(VGG16(weights='imagenet', include_top=False,pooling='avg'))\n",
        "  return model.predict(x_train_e),model.predict(x_val_e),model.predict(x_test_e)\n",
        "\n",
        "def MLP(param):\n",
        "  model = Sequential()\n",
        "  model.add(Flatten())\n",
        "  model.add(Dense(768, activation=('relu')))\n",
        "  model.add(Dropout(0.5))\n",
        "  model.add(Dense(416, activation=('relu')))\n",
        "  model.add(Dropout(0.2))\n",
        "  model.add(Dense(10))\n",
        "  model.add(Activation('softmax'))\n",
        "\n",
        "  sgd = SGD(learning_rate=0.01)\n",
        "  model.compile(loss=\n",
        "  'categorical_crossentropy',optimizer=sgd,metrics=['accuracy'])\n",
        "  nclasses = 10\n",
        "  Y_train_neural = to_categorical(y_train, nclasses)\n",
        "  Y_val_rede = to_categorical(y_val,nclasses)\n",
        "  batch_size = param\n",
        "  nb_epoch = 10\n",
        "  model.fit(X_train_features, Y_train_neural,\n",
        "  batch_size=batch_size, epochs=nb_epoch,\n",
        "  verbose=1,\n",
        "  validation_data=(X_val_features, Y_val_rede))\n",
        "\n",
        "X_train_features,X_val_features,X_test_features = Extract_VGG16(x_train_vgg,x_val_vgg,x_test_vgg)\n",
        "MLP(10)\n",
        "MLP(16)\n",
        "MLP(32)\n",
        "MLP(64)\n",
        "MLP(256)\n",
        "MLP(512)\n",
        "#result=16 best val loss and val accuracy"
      ]
    },
    {
      "cell_type": "code",
      "execution_count": null,
      "metadata": {
        "id": "rxP9Q9dZgO86"
      },
      "outputs": [],
      "source": [
        "def Extract_VGG16(x_train_e,x_val_e,x_test_e):\n",
        "  x_train_e = preprocess_input(x_train_e.astype('float32'))\n",
        "  x_val_e = preprocess_input(x_val_e.astype('float32'))\n",
        "  x_test_e = preprocess_input(x_test_e.astype('float32'))\n",
        "  model = Sequential()\n",
        "  model.add(UpSampling2D())\n",
        "  model.add(VGG16(weights='imagenet', include_top=False,pooling='avg'))\n",
        "  return model.predict(x_train_e),model.predict(x_val_e),model.predict(x_test_e)\n",
        "\n",
        "X_train_features,X_val_features,X_test_features = Extract_VGG16(x_train_vgg,x_val_vgg,x_test_vgg)\n",
        "\n",
        "def MLP():\n",
        "  model = Sequential()\n",
        "  model.add(Flatten())\n",
        "  model.add(Dense(768, activation=('relu')))\n",
        "  model.add(Dropout(0.5))\n",
        "  model.add(Dense(416, activation=('relu')))\n",
        "  model.add(Dropout(0.2))\n",
        "  model.add(Dense(10))\n",
        "  model.add(Activation('softmax'))\n",
        "  earlystopping = keras.callbacks.EarlyStopping(monitor =\"val_loss\",\n",
        "                                        mode =\"min\", patience = 5,\n",
        "                                        restore_best_weights = True)\n",
        "\n",
        "  sgd = SGD(learning_rate=0.01)\n",
        "  model.compile(loss=\n",
        "  'categorical_crossentropy',optimizer=sgd,metrics=['accuracy'])\n",
        "\n",
        "  nclasses = 10\n",
        "  Y_train_neural = to_categorical(y_train, nclasses)\n",
        "  Y_val_rede = to_categorical(y_val,nclasses)\n",
        "  batch_size = 16\n",
        "  nb_epoch = 1000\n",
        "  model.fit(X_train_features, Y_train_neural,\n",
        "  batch_size=batch_size, epochs=nb_epoch,\n",
        "  verbose=1,\n",
        "  validation_data=(X_val_features, Y_val_rede),callbacks=[earlystopping])\n",
        "\n",
        "\n",
        "MLP()\n",
        "#result = 18"
      ]
    }
  ],
  "metadata": {
    "accelerator": "GPU",
    "colab": {
      "collapsed_sections": [
        "hnWhtSLkfV69",
        "Z_KZIdm9frlo"
      ],
      "provenance": []
    },
    "gpuClass": "standard",
    "kernelspec": {
      "display_name": "Python 3",
      "name": "python3"
    },
    "language_info": {
      "name": "python"
    }
  },
  "nbformat": 4,
  "nbformat_minor": 0
}
